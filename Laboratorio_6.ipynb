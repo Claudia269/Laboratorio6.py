{
  "nbformat": 4,
  "nbformat_minor": 0,
  "metadata": {
    "colab": {
      "provenance": []
    },
    "kernelspec": {
      "name": "python3",
      "display_name": "Python 3"
    },
    "language_info": {
      "name": "python"
    }
  },
  "cells": [
    {
      "cell_type": "code",
      "source": [
        "##Programa 1\n",
        "\n",
        "# Paso 1: Elegir el tipo de té\n",
        "tipo_te = input(\"1. Escoge el tipo de té (ejemplo: té negro, té verde, té blanco, té de hierbas): \")\n",
        "cantidad_tazas = int(input(\"   ¿Cuántas tazas deseas preparar? \"))\n",
        "\n",
        "# Validación de la cantidad de té por taza\n",
        "cantidad_te = int(input(\"   Ingresa la cantidad de té (en cucharaditas o bolsitas) por taza: \"))\n",
        "if cantidad_te > 1:\n",
        "    print(\"   Nota: Usa solo una cucharadita o bolsita de té por cada taza.\")\n",
        "    confirmacion = input(\"   Escribe 'sí' para confirmar que entendiste y deseas continuar: \")\n",
        "    while confirmacion != \"si\":\n",
        "        confirmacion = input(\"   Por favor, escribe 'sí' para continuar: \")\n",
        "print(\"   La cantidad de té es correcta.\\n\")\n",
        "\n",
        "# Paso 2: Calentar el agua a la temperatura adecuada\n",
        "if tipo_te == \"té verde\" or tipo_te == \"té blanco\":\n",
        "    print(\"\\n2. Calienta el agua a 70-80 °C (evita hervir completamente).\")\n",
        "else:\n",
        "    print(\"\\n2. Calienta el agua a 90-100 °C. Puedes llevarla a hervir.\")\n",
        "\n",
        "# Paso 3: Colocar el té en la taza o tetera\n",
        "print(\"\\n3. Coloca el té en la taza o tetera.\")\n",
        "if tipo_te == \"té suelto\":\n",
        "    print(\"   Usa un infusor o colador de té para el té suelto.\")\n",
        "else:\n",
        "    print(\"   Si usas una bolsita, simplemente colócala en la taza.\")\n",
        "\n",
        "# Paso 4: Verter el agua caliente\n",
        "print(\"\\n4. Vierte el agua caliente sobre el té en la taza o tetera.\")\n",
        "\n",
        "# Paso 5: Dejar reposar el té por el tiempo recomendado\n",
        "if tipo_te == \"té verde\":\n",
        "    print(\"\\n5. Deja reposar el té durante 2-3 minutos.\")\n",
        "elif tipo_te == \"té negro\":\n",
        "    print(\"\\n5. Deja reposar el té durante 3-5 minutos.\")\n",
        "elif tipo_te == \"té de hierbas\":\n",
        "    print(\"\\n5. Deja reposar el té durante 5-7 minutos.\")\n",
        "else:\n",
        "    print(\"\\n5. Deja reposar el té durante 3-5 minutos (tiempo estándar).\")\n",
        "\n",
        "# Paso 6: Retirar el té\n",
        "print(\"\\n6. Retira el té.\")\n",
        "if tipo_te == \"té suelto\":\n",
        "    print(\"   Retira el infusor o colador.\")\n",
        "else:\n",
        "    print(\"   Retira la bolsita y exprímela suavemente.\")\n",
        "\n",
        "# Paso 7: Personalizar el té (opcional)\n",
        "personalizar = input(\"\\n7. ¿Deseas personalizar el té con azúcar, miel, leche, limón, etc.? (sí/no): \")\n",
        "if personalizar == \"si\":\n",
        "    print(\"   Puedes agregar tus ingredientes favoritos al gusto.\")\n",
        "\n",
        "# Paso 8: Disfrutar el té\n",
        "print(\"\\n8. ¡Disfruta tu té! Si prefieres que se enfríe un poco, espera unos minutos antes de probarlo.\")"
      ],
      "metadata": {
        "colab": {
          "base_uri": "https://localhost:8080/"
        },
        "id": "qmu10ZM8rGET",
        "outputId": "f562ccdc-16e2-4507-b952-0bec91f1591d"
      },
      "execution_count": 7,
      "outputs": [
        {
          "output_type": "stream",
          "name": "stdout",
          "text": [
            "1. Escoge el tipo de té (ejemplo: té negro, té verde, té blanco, té de hierbas): hierbas\n",
            "   ¿Cuántas tazas deseas preparar? 3\n",
            "   Ingresa la cantidad de té (en cucharaditas o bolsitas) por taza: 3\n",
            "   Nota: Usa solo una cucharadita o bolsita de té por cada taza.\n",
            "   Escribe 'sí' para confirmar que entendiste y deseas continuar: si\n",
            "   La cantidad de té es correcta.\n",
            "\n",
            "\n",
            "2. Calienta el agua a 90-100 °C. Puedes llevarla a hervir.\n",
            "\n",
            "3. Coloca el té en la taza o tetera.\n",
            "   Si usas una bolsita, simplemente colócala en la taza.\n",
            "\n",
            "4. Vierte el agua caliente sobre el té en la taza o tetera.\n",
            "\n",
            "5. Deja reposar el té durante 3-5 minutos (tiempo estándar).\n",
            "\n",
            "6. Retira el té.\n",
            "   Retira la bolsita y exprímela suavemente.\n",
            "\n",
            "7. ¿Deseas personalizar el té con azúcar, miel, leche, limón, etc.? (sí/no): n\n",
            "\n",
            "8. ¡Disfruta tu té! Si prefieres que se enfríe un poco, espera unos minutos antes de probarlo.\n"
          ]
        }
      ]
    },
    {
      "cell_type": "code",
      "source": [
        "## Programa 2\n",
        "# Mensaje de informacion Programa que calcula el promedio de notas\n",
        "print(\"Programa que cálcula el promedio de notas.\")\n",
        "\n",
        "# Pedir al usuario la cantidad de notas\n",
        "cantidad_notas = int(input(\"¿Cuántas notas deseas promediar? \"))\n",
        "\n",
        "# Crear una lista para almacenar las notas\n",
        "notas = []\n",
        "\n",
        "# Pedir al usuario cada nota y validar que sea positiva\n",
        "for i in range(cantidad_notas):\n",
        "    while True:  # Ciclo para validar la nota\n",
        "        nota = float(input(f\"Ingrese la nota {i + 1}: \"))\n",
        "        if nota >= 0:\n",
        "            notas.append(nota)\n",
        "            break  # Sale del ciclo si la nota es válida\n",
        "        else:\n",
        "            print(\"Debe ser un dato positivo. Intente de nuevo.\")\n",
        "\n",
        "# Calcular el promedio\n",
        "promedio = sum(notas) / cantidad_notas\n",
        "\n",
        "# Mostrar el promedio\n",
        "print(f\"El promedio de las notas es: {promedio}\")"
      ],
      "metadata": {
        "colab": {
          "base_uri": "https://localhost:8080/"
        },
        "id": "T0lWBT4x8mTy",
        "outputId": "8fcced80-ee68-430f-ce61-a3475ec02b75"
      },
      "execution_count": null,
      "outputs": [
        {
          "output_type": "stream",
          "name": "stdout",
          "text": [
            "Algoritmo que cálcula el promedio de notas.\n",
            "¿Cuántas notas deseas promediar? 3\n",
            "Ingrese la nota 1: 2\n",
            "Ingrese la nota 2: 3\n",
            "Ingrese la nota 3: 7\n",
            "El promedio de las notas es: 4.0\n"
          ]
        }
      ]
    },
    {
      "cell_type": "code",
      "source": [
        "##Programa 3\n",
        "print(\"Programa que calcula si un número es par o impar.\")\n",
        "\n",
        "continuar = 's'\n",
        "\n",
        "while continuar == 's':\n",
        "    numero = int(input(\"Ingresa un número: \"))\n",
        "\n",
        "    if numero % 2 == 0:\n",
        "        print(f\"{numero} es par\")\n",
        "    else:\n",
        "        print(f\"{numero} es impar\")\n",
        "\n",
        "    continuar = input(\"¿Deseas validar otro número? (s/n): \")\n",
        "\n",
        "    # Comprueba si el usuario ha ingresado s o n\n",
        "    if continuar != 's' and continuar != 'n':\n",
        "        print(\"Entrada inválida. Por favor ingresa 's' o 'n'.\")\n",
        "        continuar = input(\"¿Deseas validar otro número? (s/n): \")\n"
      ],
      "metadata": {
        "id": "7dSqgpTk_WsX",
        "colab": {
          "base_uri": "https://localhost:8080/"
        },
        "outputId": "73b59449-edd4-454e-f6c2-9ffa909b7d4e"
      },
      "execution_count": null,
      "outputs": [
        {
          "name": "stdout",
          "output_type": "stream",
          "text": [
            "Algoritmo que calcula si un número es par o impar.\n",
            "Ingresa un número: 1\n",
            "1 es impar\n",
            "¿Deseas validar otro número? (s/n): s\n",
            "Ingresa un número: 3\n",
            "3 es impar\n",
            "¿Deseas validar otro número? (s/n): r\n",
            "Entrada inválida. Por favor ingresa 's' o 'n'.\n",
            "¿Deseas validar otro número? (s/n): s\n",
            "Ingresa un número: 4\n",
            "4 es par\n",
            "¿Deseas validar otro número? (s/n): n\n"
          ]
        }
      ]
    },
    {
      "cell_type": "code",
      "source": [
        "## Programa 4\n",
        "print(\"Programa que inprime los números del 1 al 5\", end=\" \")\n",
        "print(\"y valida si es par o impar.\")\n",
        "for numero in range(1, 6):  # Bucle del 1 al 5\n",
        "    if numero % 2 == 0:\n",
        "        print(f\"{numero} es par\")\n",
        "    else:\n",
        "        print(f\"{numero} es impar\")"
      ],
      "metadata": {
        "id": "LP_9w-Wd_XBd",
        "colab": {
          "base_uri": "https://localhost:8080/"
        },
        "outputId": "21dfa5e3-cc43-4a9d-b0c2-bd99356adfab"
      },
      "execution_count": null,
      "outputs": [
        {
          "output_type": "stream",
          "name": "stdout",
          "text": [
            "Algoritmo que inprime los números del 1 al 5 y valida si es par o impar.\n",
            "1 es impar\n",
            "2 es par\n",
            "3 es impar\n",
            "4 es par\n",
            "5 es impar\n"
          ]
        }
      ]
    },
    {
      "cell_type": "code",
      "source": [
        "## Programa 5\n",
        "# temp_celsius = 0.0  #Creación de la variable\n",
        "\n",
        "# print(\"Hola, este programa convierte grados celsius a grados Fahrenheit\") #Avisamos el objetivo del programa\n",
        "\n",
        "dato_usuario = input(\"Ingrese los grados en celsius en números: \") #Solicitamos al usuario los grados en celsius\n",
        "\n",
        "temp_celsius = float(dato_usuario) #Validación de la información\n",
        "\n",
        "grados_Fahrenheit = (temp_celsius * 9/5) + 32 #Aplicamos la formula de conversión de grados\n",
        "\n",
        "print('Los grados Fahrenheit son: ', grados_Fahrenheit) #Imprimimos el resultado"
      ],
      "metadata": {
        "colab": {
          "base_uri": "https://localhost:8080/"
        },
        "id": "SLwAIzjThUDA",
        "outputId": "0b3c519e-a655-4164-d14d-6eb6cdecf369"
      },
      "execution_count": null,
      "outputs": [
        {
          "output_type": "stream",
          "name": "stdout",
          "text": [
            "Ingrese los grados en celsius en números: 36\n",
            "Los grados Fahrenheit son:  96.8\n"
          ]
        }
      ]
    },
    {
      "cell_type": "code",
      "source": [
        "## Programa 6\n",
        "print(\"\")\n",
        "print(\"Este programa cuenta el número de vocales que se encuentran\", end= \" \")\n",
        "print(\"en el texto ingresado \")\n",
        "texto = input(\"Ingresa una cadena de texto: \")\n",
        "vocales = \"aeiouAEIOU\"  # Definir las vocales minusculas y mayusculas\n",
        "contador_vocales = 0\n",
        "\n",
        "for letra in texto:\n",
        "    if letra in vocales:\n",
        "        contador_vocales += 1\n",
        "\n",
        "print(f\"La cadena '{texto}' tiene {contador_vocales} vocales.\")"
      ],
      "metadata": {
        "colab": {
          "base_uri": "https://localhost:8080/"
        },
        "id": "yoZSBhFLhcrr",
        "outputId": "a2290fcb-0053-4255-f820-3fd387eeb5ea"
      },
      "execution_count": null,
      "outputs": [
        {
          "output_type": "stream",
          "name": "stdout",
          "text": [
            "Este programa cuenta el número de vocales que se encuentran en el texto ingresado \n",
            "Ingresa una cadena de texto: pedro perez\n",
            "La cadena 'pedro perez' tiene 4 vocales.\n"
          ]
        }
      ]
    },
    {
      "cell_type": "code",
      "source": [
        "##Programa 7\n",
        "\n",
        "continuar = 's'\n",
        "print(\"Programa que calcual el promedio de un número.\")\n",
        "while continuar == 's':\n",
        "    numero = int(input(\"Ingresa un número: \"))\n",
        "\n",
        "    # Validación de entrada\n",
        "    if numero <= 0:\n",
        "        print(\"El número debe ser positivo. Inténtalo de nuevo.\")\n",
        "        continue  # Volver al principio del bucle\n",
        "\n",
        "    factorial = 1\n",
        "    contador = 1\n",
        "\n",
        "    while contador <= numero:\n",
        "        factorial *= contador\n",
        "        contador += 1\n",
        "\n",
        "    print(f\"El factorial de {numero} es {factorial}\")\n",
        "\n",
        "    continuar = input(\"¿Deseas calcular el factorial de otro número? (s/n): \")\n"
      ],
      "metadata": {
        "colab": {
          "base_uri": "https://localhost:8080/"
        },
        "id": "lDFzYLLBjmdP",
        "outputId": "09d707af-08d1-4a34-c392-1a12161cc5a7"
      },
      "execution_count": null,
      "outputs": [
        {
          "name": "stdout",
          "output_type": "stream",
          "text": [
            "Ingresa un número: -9\n",
            "El número debe ser positivo. Inténtalo de nuevo.\n",
            "Ingresa un número: 7\n",
            "El factorial de 7 es 5040\n",
            "¿Deseas calcular el factorial de otro número? (s/n): s\n",
            "Ingresa un número: 3\n",
            "El factorial de 3 es 6\n",
            "¿Deseas calcular el factorial de otro número? (s/n): n\n"
          ]
        }
      ]
    }
  ]
}